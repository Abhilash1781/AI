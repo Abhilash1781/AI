{
 "cells": [
  {
   "cell_type": "code",
   "execution_count": 1,
   "id": "05d06e1f",
   "metadata": {},
   "outputs": [],
   "source": [
    "class City:\n",
    "    def __init__(self, name):\n",
    "        self.name = name\n",
    "        self.connections = {}  # to store neighboring cities and distances\n",
    "    \n",
    "    def add_connection(self, city, distance):\n",
    "        self.connections[city] = distance"
   ]
  },
  {
   "cell_type": "code",
   "execution_count": 2,
   "id": "3ccaf3a7",
   "metadata": {},
   "outputs": [],
   "source": [
    "class StateSpaceGraph:\n",
    "    def __init__(self):\n",
    "        self.cities = {}\n",
    "    \n",
    "    def add_city(self, city_name):\n",
    "        city = City(city_name)\n",
    "        self.cities[city_name] = city\n",
    "    \n",
    "    def add_connection(self, city1, city2, distance):\n",
    "        self.cities[city1].add_connection(self.cities[city2], distance)\n",
    "        self.cities[city2].add_connection(self.cities[city1], distance)\n",
    "    \n",
    "    def shortest_path(self, start_city, end_city):\n",
    "        distances = {city: float('inf') for city in self.cities}\n",
    "        distances[start_city] = 0\n",
    "        visited_cities = set()\n",
    "        unvisited_cities = set(self.cities.values())\n",
    "        \n",
    "        while unvisited_cities:\n",
    "            current_city = min(unvisited_cities, key=lambda city: distances[city.name])\n",
    "            unvisited_cities.remove(current_city)\n",
    "            visited_cities.add(current_city)\n",
    "            \n",
    "            for neighbor, distance in current_city.connections.items():\n",
    "                if neighbor in visited_cities:\n",
    "                    continue\n",
    "                new_distance = distances[current_city.name] + distance\n",
    "                if new_distance < distances[neighbor.name]:\n",
    "                    distances[neighbor.name] = new_distance\n",
    "        \n",
    "        return distances[end_city]\n",
    "    "
   ]
  },
  {
   "cell_type": "code",
   "execution_count": 6,
   "id": "f6182846",
   "metadata": {},
   "outputs": [
    {
     "name": "stdout",
     "output_type": "stream",
     "text": [
      "5\n",
      "1\n",
      "3\n",
      "4\n",
      "10\n"
     ]
    }
   ],
   "source": [
    "graph = StateSpaceGraph()\n",
    "graph.add_city('A')\n",
    "graph.add_city('B')\n",
    "graph.add_city('C')\n",
    "graph.add_city('D')\n",
    "graph.add_city('E')\n",
    "graph.add_connection('A', 'B', 2)\n",
    "graph.add_connection('B', 'C', 3)\n",
    "graph.add_connection('C', 'D', 1)\n",
    "graph.add_connection('A', 'D', 5)\n",
    "graph.add_connection('E', 'D', 6)\n",
    "print(graph.shortest_path('A', 'C')) \n",
    "print(graph.shortest_path('D', 'C')) \n",
    "print(graph.shortest_path('B', 'C')) \n",
    "print(graph.shortest_path('B', 'D')) \n",
    "print(graph.shortest_path('B', 'E')) "
   ]
  },
  {
   "cell_type": "code",
   "execution_count": null,
   "id": "46066526",
   "metadata": {},
   "outputs": [],
   "source": []
  }
 ],
 "metadata": {
  "kernelspec": {
   "display_name": "Python 3 (ipykernel)",
   "language": "python",
   "name": "python3"
  },
  "language_info": {
   "codemirror_mode": {
    "name": "ipython",
    "version": 3
   },
   "file_extension": ".py",
   "mimetype": "text/x-python",
   "name": "python",
   "nbconvert_exporter": "python",
   "pygments_lexer": "ipython3",
   "version": "3.10.10"
  }
 },
 "nbformat": 4,
 "nbformat_minor": 5
}
