{
 "cells": [
  {
   "cell_type": "code",
   "execution_count": 1,
   "id": "05d06e1f",
   "metadata": {},
   "outputs": [],
   "source": [
    "class City:\n",
    "    def __init__(self, name):\n",
    "        self.name = name\n",
    "        self.connections = {}  # to store neighboring cities and distances\n",
    "    \n",
    "    def add_connection(self, city, distance):\n",
    "        self.connections[city] = distance"
   ]
  },
  {
   "cell_type": "code",
   "execution_count": 2,
   "id": "3ccaf3a7",
   "metadata": {},
   "outputs": [],
   "source": [
    "class StateSpaceGraph:\n",
    "    def __init__(self):\n",
    "        self.cities = {}\n",
    "    \n",
    "    def add_city(self, city_name):\n",
    "        city = City(city_name)\n",
    "        self.cities[city_name] = city\n",
    "    \n",
    "    def add_connection(self, city1, city2, distance):\n",
    "        self.cities[city1].add_connection(self.cities[city2], distance)\n",
    "        self.cities[city2].add_connection(self.cities[city1], distance)\n",
    "    \n",
    "    def shortest_path(self, start_city, end_city):\n",
    "        distances = {city: float('inf') for city in self.cities}\n",
    "        distances[start_city] = 0\n",
    "        visited_cities = set()\n",
    "        unvisited_cities = set(self.cities.values())\n",
    "        \n",
    "        while unvisited_cities:\n",
    "            current_city = min(unvisited_cities, key=lambda city: distances[city.name])\n",
    "            unvisited_cities.remove(current_city)\n",
    "            visited_cities.add(current_city)\n",
    "            \n",
    "            for neighbor, distance in current_city.connections.items():\n",
    "                if neighbor in visited_cities:\n",
    "                    continue\n",
    "                new_distance = distances[current_city.name] + distance\n",
    "                if new_distance < distances[neighbor.name]:\n",
    "                    distances[neighbor.name] = new_distance\n",
    "        \n",
    "        return distances[end_city]\n",
    "    "
   ]
  },
  {
   "cell_type": "code",
   "execution_count": 6,
   "id": "f6182846",
   "metadata": {},
   "outputs": [
    {
     "name": "stdout",
     "output_type": "stream",
     "text": [
      "5\n",
      "1\n",
      "3\n",
      "4\n",
      "10\n"
     ]
    }
   ],
   "source": [
    "graph = StateSpaceGraph()\n",
    "graph.add_city('A')\n",
    "graph.add_city('B')\n",
    "graph.add_city('C')\n",
    "graph.add_city('D')\n",
    "graph.add_city('E')\n",
    "graph.add_connection('A', 'B', 2)\n",
    "graph.add_connection('B', 'C', 3)\n",
    "graph.add_connection('C', 'D', 1)\n",
    "graph.add_connection('A', 'D', 5)\n",
    "graph.add_connection('E', 'D', 6)\n",
    "print(graph.shortest_path('A', 'C')) \n",
    "print(graph.shortest_path('D', 'C')) \n",
    "print(graph.shortest_path('B', 'C')) \n",
    "print(graph.shortest_path('B', 'D')) \n",
    "print(graph.shortest_path('B', 'E')) "
   ]
  },
  {
   "cell_type": "code",
   "execution_count": 1,
   "id": "c020f871",
   "metadata": {},
   "outputs": [
    {
     "name": "stdout",
     "output_type": "stream",
     "text": [
      "Requirement already satisfied: nbconvert in c:\\users\\admin\\appdata\\local\\programs\\python\\python310\\lib\\site-packages (7.2.9)\n",
      "Requirement already satisfied: tinycss2 in c:\\users\\admin\\appdata\\local\\programs\\python\\python310\\lib\\site-packages (from nbconvert) (1.2.1)\n",
      "Requirement already satisfied: markupsafe>=2.0 in c:\\users\\admin\\appdata\\local\\programs\\python\\python310\\lib\\site-packages (from nbconvert) (2.1.2)\n",
      "Requirement already satisfied: jupyter-core>=4.7 in c:\\users\\admin\\appdata\\local\\programs\\python\\python310\\lib\\site-packages (from nbconvert) (5.2.0)\n",
      "Requirement already satisfied: jinja2>=3.0 in c:\\users\\admin\\appdata\\local\\programs\\python\\python310\\lib\\site-packages (from nbconvert) (3.1.2)\n",
      "Requirement already satisfied: jupyterlab-pygments in c:\\users\\admin\\appdata\\local\\programs\\python\\python310\\lib\\site-packages (from nbconvert) (0.2.2)\n",
      "Requirement already satisfied: mistune<3,>=2.0.3 in c:\\users\\admin\\appdata\\local\\programs\\python\\python310\\lib\\site-packages (from nbconvert) (2.0.5)\n",
      "Requirement already satisfied: nbformat>=5.1 in c:\\users\\admin\\appdata\\local\\programs\\python\\python310\\lib\\site-packages (from nbconvert) (5.7.3)\n",
      "Requirement already satisfied: pandocfilters>=1.4.1 in c:\\users\\admin\\appdata\\local\\programs\\python\\python310\\lib\\site-packages (from nbconvert) (1.5.0)\n",
      "Requirement already satisfied: beautifulsoup4 in c:\\users\\admin\\appdata\\local\\programs\\python\\python310\\lib\\site-packages (from nbconvert) (4.11.2)\n",
      "Requirement already satisfied: bleach in c:\\users\\admin\\appdata\\local\\programs\\python\\python310\\lib\\site-packages (from nbconvert) (6.0.0)\n",
      "Requirement already satisfied: defusedxml in c:\\users\\admin\\appdata\\local\\programs\\python\\python310\\lib\\site-packages (from nbconvert) (0.7.1)\n",
      "Requirement already satisfied: pygments>=2.4.1 in c:\\users\\admin\\appdata\\local\\programs\\python\\python310\\lib\\site-packages (from nbconvert) (2.14.0)\n",
      "Requirement already satisfied: packaging in c:\\users\\admin\\appdata\\local\\programs\\python\\python310\\lib\\site-packages (from nbconvert) (23.0)\n",
      "Requirement already satisfied: nbclient>=0.5.0 in c:\\users\\admin\\appdata\\local\\programs\\python\\python310\\lib\\site-packages (from nbconvert) (0.7.2)\n",
      "Requirement already satisfied: traitlets>=5.0 in c:\\users\\admin\\appdata\\local\\programs\\python\\python310\\lib\\site-packages (from nbconvert) (5.9.0)\n",
      "Requirement already satisfied: platformdirs>=2.5 in c:\\users\\admin\\appdata\\local\\programs\\python\\python310\\lib\\site-packages (from jupyter-core>=4.7->nbconvert) (3.0.0)\n",
      "Requirement already satisfied: pywin32>=1.0 in c:\\users\\admin\\appdata\\local\\programs\\python\\python310\\lib\\site-packages (from jupyter-core>=4.7->nbconvert) (305)\n",
      "Requirement already satisfied: jupyter-client>=6.1.12 in c:\\users\\admin\\appdata\\local\\programs\\python\\python310\\lib\\site-packages (from nbclient>=0.5.0->nbconvert) (8.0.2)\n",
      "Requirement already satisfied: jsonschema>=2.6 in c:\\users\\admin\\appdata\\local\\programs\\python\\python310\\lib\\site-packages (from nbformat>=5.1->nbconvert) (4.17.3)\n",
      "Requirement already satisfied: fastjsonschema in c:\\users\\admin\\appdata\\local\\programs\\python\\python310\\lib\\site-packages (from nbformat>=5.1->nbconvert) (2.16.2)\n",
      "Requirement already satisfied: soupsieve>1.2 in c:\\users\\admin\\appdata\\local\\programs\\python\\python310\\lib\\site-packages (from beautifulsoup4->nbconvert) (2.3.2.post1)\n",
      "Requirement already satisfied: six>=1.9.0 in c:\\users\\admin\\appdata\\local\\programs\\python\\python310\\lib\\site-packages (from bleach->nbconvert) (1.16.0)\n",
      "Requirement already satisfied: webencodings in c:\\users\\admin\\appdata\\local\\programs\\python\\python310\\lib\\site-packages (from bleach->nbconvert) (0.5.1)\n",
      "Requirement already satisfied: pyrsistent!=0.17.0,!=0.17.1,!=0.17.2,>=0.14.0 in c:\\users\\admin\\appdata\\local\\programs\\python\\python310\\lib\\site-packages (from jsonschema>=2.6->nbformat>=5.1->nbconvert) (0.19.3)\n",
      "Requirement already satisfied: attrs>=17.4.0 in c:\\users\\admin\\appdata\\local\\programs\\python\\python310\\lib\\site-packages (from jsonschema>=2.6->nbformat>=5.1->nbconvert) (22.2.0)\n",
      "Requirement already satisfied: tornado>=6.2 in c:\\users\\admin\\appdata\\local\\programs\\python\\python310\\lib\\site-packages (from jupyter-client>=6.1.12->nbclient>=0.5.0->nbconvert) (6.2)\n",
      "Requirement already satisfied: pyzmq>=23.0 in c:\\users\\admin\\appdata\\local\\programs\\python\\python310\\lib\\site-packages (from jupyter-client>=6.1.12->nbclient>=0.5.0->nbconvert) (25.0.0)\n",
      "Requirement already satisfied: python-dateutil>=2.8.2 in c:\\users\\admin\\appdata\\local\\programs\\python\\python310\\lib\\site-packages (from jupyter-client>=6.1.12->nbclient>=0.5.0->nbconvert) (2.8.2)\n",
      "Note: you may need to restart the kernel to use updated packages.\n"
     ]
    },
    {
     "name": "stderr",
     "output_type": "stream",
     "text": [
      "C:\\Users\\Admin\\AppData\\Local\\Programs\\Python\\Python310\\lib\\site-packages\\_distutils_hack\\__init__.py:33: UserWarning: Setuptools is replacing distutils.\n",
      "  warnings.warn(\"Setuptools is replacing distutils.\")\n"
     ]
    }
   ],
   "source": [
    "pip install nbconvert"
   ]
  },
  {
   "cell_type": "code",
   "execution_count": null,
   "id": "d27135b3",
   "metadata": {},
   "outputs": [],
   "source": []
  }
 ],
 "metadata": {
  "kernelspec": {
   "display_name": "Python 3 (ipykernel)",
   "language": "python",
   "name": "python3"
  },
  "language_info": {
   "codemirror_mode": {
    "name": "ipython",
    "version": 3
   },
   "file_extension": ".py",
   "mimetype": "text/x-python",
   "name": "python",
   "nbconvert_exporter": "python",
   "pygments_lexer": "ipython3",
   "version": "3.10.10"
  }
 },
 "nbformat": 4,
 "nbformat_minor": 5
}
