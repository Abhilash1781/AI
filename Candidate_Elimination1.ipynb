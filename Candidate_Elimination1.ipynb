{
  "nbformat": 4,
  "nbformat_minor": 0,
  "metadata": {
    "colab": {
      "provenance": []
    },
    "kernelspec": {
      "name": "python3",
      "display_name": "Python 3"
    },
    "language_info": {
      "name": "python"
    }
  },
  "cells": [
    {
      "cell_type": "code",
      "source": [
        "from google.colab import drive\n",
        "drive.mount('/content/drive')"
      ],
      "metadata": {
        "colab": {
          "base_uri": "https://localhost:8080/"
        },
        "id": "Z8fNc_TEbuZP",
        "outputId": "eab0fd15-bfdb-4499-e806-2119e90293ff"
      },
      "execution_count": null,
      "outputs": [
        {
          "output_type": "stream",
          "name": "stdout",
          "text": [
            "Mounted at /content/drive\n"
          ]
        }
      ]
    },
    {
      "cell_type": "code",
      "source": [
        "import csv\n",
        "with open('/content/drive/MyDrive/CEDS12.csv') as csvFile:\n",
        "    examples = [tuple(line) for line in csv.reader(csvFile)]\n",
        "print(examples)"
      ],
      "metadata": {
        "colab": {
          "base_uri": "https://localhost:8080/"
        },
        "id": "f3IwQDmYeDw4",
        "outputId": "c3490e8b-10ca-4bed-8f32-a2236f9ca597"
      },
      "execution_count": null,
      "outputs": [
        {
          "output_type": "stream",
          "name": "stdout",
          "text": [
            "[('Example', 'Sky', 'AirTemp', 'Humidity', 'Wind', 'Water', 'Forecast', 'EnjoySport'), ('1', 'Sunny', 'Warm', 'Normal', 'Strong', 'Warm', 'Same', 'Yes'), ('2', 'Sunny', 'Warm', 'High', 'Strong', 'Warm', 'Same', 'Yes'), ('3', 'Rain', 'Cold', 'High', 'Strong', 'Warm', 'Change', 'No'), ('4', 'Sunny', 'Warm', 'High', 'Strong', 'Cool', 'Change', 'Yes')]\n"
          ]
        }
      ]
    },
    {
      "cell_type": "code",
      "source": [
        "def get_domains(examples):\n",
        "    d = [set() for i in examples[0]] \n",
        "    for x in examples:\n",
        "        for i, xi in enumerate(x):\n",
        "            d[i].add(xi)\n",
        "    return [list(sorted(x)) for x in d]\n",
        "get_domains(examples)"
      ],
      "metadata": {
        "colab": {
          "base_uri": "https://localhost:8080/"
        },
        "id": "eMVUq_i5eJ8H",
        "outputId": "aef86099-d0b9-44ae-f2b4-7b76598aa8d8"
      },
      "execution_count": null,
      "outputs": [
        {
          "output_type": "execute_result",
          "data": {
            "text/plain": [
              "[['1', '2', '3', '4', 'Example'],\n",
              " ['Rain', 'Sky', 'Sunny'],\n",
              " ['AirTemp', 'Cold', 'Warm'],\n",
              " ['High', 'Humidity', 'Normal'],\n",
              " ['Strong', 'Wind'],\n",
              " ['Cool', 'Warm', 'Water'],\n",
              " ['Change', 'Forecast', 'Same'],\n",
              " ['EnjoySport', 'No', 'Yes']]"
            ]
          },
          "metadata": {},
          "execution_count": 4
        }
      ]
    },
    {
      "cell_type": "code",
      "source": [
        "def g_0(n):\n",
        "    return ('?',)*n\n",
        "\n",
        "def s_0(n):\n",
        "    return ('Phi',)*n\n",
        "def more_general(h1, h2):\n",
        "    more_general_parts = []\n",
        "    for x, y in zip(h1, h2):\n",
        "        mg = x == '?' or (x != 'Phi' and (x == y or y == 'Phi'))\n",
        "        more_general_parts.append(mg)\n",
        "    return all(more_general_parts) \n",
        "\n",
        "def consistent(hypothesis,example):\n",
        "    return more_general(hypothesis, example)\n",
        "\n",
        "def min_generalizations(h, x):\n",
        "    h_new = list(h)\n",
        "    for i in range(len(h)):\n",
        "        if not consistent(h[i:i+1],x[i:i+1]):\n",
        "            if h[i] != 'Phi':\n",
        "                h_new[i] = '?'\n",
        "            else:\n",
        "                h_new[i] = x[i]\n",
        "    return [tuple(h_new)]\n",
        "\n",
        "def generalize_S(x, G, S):\n",
        "    S_prev = list(S)\n",
        "    for s in S_prev:\n",
        "        if s not in S:\n",
        "            continue\n",
        "        if not consistent(s,x):\n",
        "            S.remove(s)\n",
        "            Splus = min_generalizations(s, x)\n",
        "            S.update([h for h in Splus if any([more_general(g,h) \n",
        "                                               for g in G])])\n",
        "\n",
        "            S.difference_update([h for h in S if \n",
        "                                 any([more_general(h, h1) \n",
        "                                      for h1 in S if h != h1])])\n",
        "    return S\n",
        "\n",
        "def min_specializations(h, domains, x):\n",
        "    results = []\n",
        "    for i in range(len(h)):\n",
        "        if h[i] == '?':\n",
        "            for val in domains[i]:\n",
        "                if x[i] != val:\n",
        "                    h_new = h[:i] + (val,) + h[i+1:]\n",
        "                    results.append(h_new)\n",
        "        elif h[i] != 'Phi':\n",
        "            h_new = h[:i] + ('Phi',) + h[i+1:]\n",
        "            results.append(h_new)\n",
        "    return results\n",
        "\n",
        "def specialize_G(x, domains, G, S):\n",
        "    G_prev = list(G)\n",
        "    for g in G_prev:\n",
        "        if g not in G:\n",
        "            continue\n",
        "        if consistent(g,x):\n",
        "            G.remove(g)\n",
        "            Gminus = min_specializations(g, domains, x)\n",
        "            G.update([h for h in Gminus if any([more_general(h, s)\n",
        "                                                for s in S])])\n",
        "            G.difference_update([h for h in G if \n",
        "                                 any([more_general(g1, h) \n",
        "                                      for g1 in G if h != g1])])\n",
        "    return G\n",
        "\n",
        "def candidate_elimination(examples):\n",
        "    domains = get_domains(examples)[:-1] \n",
        "    \n",
        "    G = set([g_0(len(domains))])\n",
        "    S = set([s_0(len(domains))])\n",
        "    i=0\n",
        "    print('All the hypotheses in General and Specific boundary are:\\n')\n",
        "    print('\\n G[{0}]:'.format(i),G)\n",
        "    print('\\n S[{0}]:'.format(i),S)\n",
        "    for xcx in examples:\n",
        "        i=i+1\n",
        "        x, cx = xcx[:-1], xcx[-1]  \n",
        "        if cx=='Yes': \n",
        "            G = {g for g in G if consistent(g,x)}\n",
        "            S = generalize_S(x, G, S)\n",
        "        else: \n",
        "            S = {s for s in S if not consistent(s,x)}\n",
        "            G = specialize_G(x, domains, G, S)\n",
        "        print('\\n G[{0}]:'.format(i),G)\n",
        "        print('\\n S[{0}]:'.format(i),S)\n",
        "    return\n",
        "candidate_elimination(examples)"
      ],
      "metadata": {
        "colab": {
          "base_uri": "https://localhost:8080/"
        },
        "id": "wBdr6XAueTtt",
        "outputId": "e75da1f6-088d-46a7-f4e8-c2fcd2f6190f"
      },
      "execution_count": null,
      "outputs": [
        {
          "output_type": "stream",
          "name": "stdout",
          "text": [
            "All the hypotheses in General and Specific boundary are:\n",
            "\n",
            "\n",
            " G[-1]: {('?', '?', '?', '?', '?', '?', '?')}\n",
            "\n",
            " S[-1]: {('Phi', 'Phi', 'Phi', 'Phi', 'Phi', 'Phi', 'Phi')}\n",
            "\n",
            " G[0]: {('?', '?', 'Warm', '?', '?', '?', '?'), ('?', '?', '?', '?', 'Strong', '?', '?'), ('1', '?', '?', '?', '?', '?', '?'), ('?', '?', '?', 'High', '?', '?', '?'), ('?', '?', '?', '?', '?', '?', 'Same'), ('?', '?', '?', 'Normal', '?', '?', '?'), ('?', 'Sunny', '?', '?', '?', '?', '?'), ('?', '?', '?', '?', '?', '?', 'Change'), ('?', '?', '?', '?', '?', 'Warm', '?'), ('3', '?', '?', '?', '?', '?', '?'), ('?', '?', '?', '?', '?', 'Cool', '?'), ('4', '?', '?', '?', '?', '?', '?'), ('?', 'Rain', '?', '?', '?', '?', '?'), ('?', '?', 'Cold', '?', '?', '?', '?'), ('2', '?', '?', '?', '?', '?', '?')}\n",
            "\n",
            " S[0]: {('Phi', 'Phi', 'Phi', 'Phi', 'Phi', 'Phi', 'Phi')}\n",
            "\n",
            " G[1]: {('?', '?', 'Warm', '?', '?', '?', '?'), ('?', '?', '?', '?', 'Strong', '?', '?'), ('1', '?', '?', '?', '?', '?', '?'), ('?', '?', '?', '?', '?', '?', 'Same'), ('?', 'Sunny', '?', '?', '?', '?', '?'), ('?', '?', '?', '?', '?', 'Warm', '?'), ('?', '?', '?', 'Normal', '?', '?', '?')}\n",
            "\n",
            " S[1]: {('1', 'Sunny', 'Warm', 'Normal', 'Strong', 'Warm', 'Same')}\n",
            "\n",
            " G[2]: {('?', '?', 'Warm', '?', '?', '?', '?'), ('?', '?', '?', '?', 'Strong', '?', '?'), ('?', '?', '?', '?', '?', '?', 'Same'), ('?', 'Sunny', '?', '?', '?', '?', '?'), ('?', '?', '?', '?', '?', 'Warm', '?')}\n",
            "\n",
            " S[2]: {('?', 'Sunny', 'Warm', '?', 'Strong', 'Warm', 'Same')}\n",
            "\n",
            " G[3]: {('?', '?', 'Warm', '?', '?', '?', '?'), ('?', '?', '?', '?', '?', '?', 'Same'), ('?', 'Sunny', '?', '?', '?', '?', '?')}\n",
            "\n",
            " S[3]: {('?', 'Sunny', 'Warm', '?', 'Strong', 'Warm', 'Same')}\n",
            "\n",
            " G[4]: {('?', 'Sunny', '?', '?', '?', '?', '?'), ('?', '?', 'Warm', '?', '?', '?', '?')}\n",
            "\n",
            " S[4]: {('?', 'Sunny', 'Warm', '?', 'Strong', '?', '?')}\n"
          ]
        }
      ]
    }
  ]
}