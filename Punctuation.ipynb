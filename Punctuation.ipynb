{
  "nbformat": 4,
  "nbformat_minor": 0,
  "metadata": {
    "colab": {
      "provenance": []
    },
    "kernelspec": {
      "name": "python3",
      "display_name": "Python 3"
    },
    "language_info": {
      "name": "python"
    }
  },
  "cells": [
    {
      "cell_type": "code",
      "source": [
        "# define punctuations\n",
        "punctuations = '''!()-[]{};:'\"\\,<>./?@#$%^&*_~'''\n",
        "\n",
        "string = \"\"\"Virat Kohli has the best ever Test, ODI and Twenty20 International rating of any Indian batsman.\n",
        " Kohli is a chase master and has the highest number of centuries in run-chases in the world.\n",
        "  He is also the fastest batsman to 10,000 and 11,000 runs in ODI cricket having achieved the milestones in 205 and 222 innings respectively.\"\"\"\n",
        "\n",
        "replacements = 0 \n",
        "# To count the number of spaces\n",
        "space = string.count(\" \")\n",
        "\n",
        "# remove punctuation from the string\n",
        "no_punct = \"\"\n",
        "for char in string:\n",
        "   if char not in punctuations:\n",
        "       no_punct = no_punct + char\n",
        "print(\"The original string is :\\n\",string)\n",
        "print(\"\\nThe string after removal of all punctions :\\n\" , no_punct)\n",
        "print(\"\\nThe number of spaces in the given string :\", space)\n"
      ],
      "metadata": {
        "colab": {
          "base_uri": "https://localhost:8080/"
        },
        "id": "BEXj_FNv6xg9",
        "outputId": "18f62932-b5a4-48b6-bf90-969ff71c2dcd"
      },
      "execution_count": null,
      "outputs": [
        {
          "output_type": "stream",
          "name": "stdout",
          "text": [
            "The original string is :\n",
            " Virat Kohli has the best ever Test, ODI and Twenty20 International rating of any Indian batsman.\n",
            " Kohli is a chase master and has the highest number of centuries in run-chases in the world.\n",
            "  He is also the fastest batsman to 10,000 and 11,000 runs in ODI cricket having achieved the milestones in 205 and 222 innings respectively.\n",
            "\n",
            "The string after removal of all punctions :\n",
            " Virat Kohli has the best ever Test ODI and Twenty20 International rating of any Indian batsman\n",
            " Kohli is a chase master and has the highest number of centuries in runchases in the world\n",
            "  He is also the fastest batsman to 10000 and 11000 runs in ODI cricket having achieved the milestones in 205 and 222 innings respectively\n",
            "\n",
            "The number of spaces in the given string : 57\n"
          ]
        }
      ]
    },
    {
      "cell_type": "code",
      "source": [
        "# Replace the all the char present in punctuations with \"Q\"\n",
        "\n",
        "for char in punctuations:\n",
        "   replacements += string.count(char)\n",
        "   string = string.replace(char , \"Q\")\n",
        "print(\"\\nReplacement\\n\",string)\n",
        "print(\"\\nNumber of times Q is replaced :\",replacements)"
      ],
      "metadata": {
        "colab": {
          "base_uri": "https://localhost:8080/"
        },
        "id": "9c6SUEPKwCMx",
        "outputId": "9d276e02-f3dd-4396-8f51-04bbbc41b919"
      },
      "execution_count": null,
      "outputs": [
        {
          "output_type": "stream",
          "name": "stdout",
          "text": [
            "\n",
            "Replacement\n",
            " Virat Kohli has the best ever TestQ ODI and Twenty20 International rating of any Indian batsmanQ\n",
            " Kohli is a chase master and has the highest number of centuries in runQchases in the worldQ\n",
            "  He is also the fastest batsman to 10Q000 and 11Q000 runs in ODI cricket having achieved the milestones in 205 and 222 innings respectivelyQ\n",
            "\n",
            "Number of times Q is replaced : 7\n"
          ]
        }
      ]
    },
    {
      "cell_type": "code",
      "source": [],
      "metadata": {
        "id": "CIY7sJPi4Jjt"
      },
      "execution_count": null,
      "outputs": []
    }
  ]
}